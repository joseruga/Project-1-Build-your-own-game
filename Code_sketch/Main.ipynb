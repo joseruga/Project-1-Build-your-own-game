{
 "cells": [
  {
   "cell_type": "code",
   "execution_count": 13,
   "metadata": {},
   "outputs": [],
   "source": [
    "#Importamos todas las librerias\n",
    "from random import choice #Para escoger palabras random\n",
    "import matplotlib.pyplot as plt\n",
    "import matplotlib.image as mpimg\n",
    "from IPython.display import clear_output #Para borrar el output\n",
    "import unidecode #Para quitar acentos\n",
    "import pandas as pd\n",
    "\n",
    "#Importamos listas  de palabras \n",
    "listas=pd.read_excel('listas.xlsx')\n",
    "lista_animales=list(listas['animal'].dropna())\n",
    "lista_paises=list(listas['paises'].dropna())\n",
    "lista_disney=list(listas['peliculas'].dropna())"
   ]
  },
  {
   "cell_type": "code",
   "execution_count": 14,
   "metadata": {},
   "outputs": [],
   "source": [
    "def normalize (texto):\n",
    "    \n",
    "    texto=(unidecode.unidecode(texto.lower()))\n",
    "    \n",
    "    return texto"
   ]
  },
  {
   "cell_type": "code",
   "execution_count": 15,
   "metadata": {},
   "outputs": [],
   "source": [
    "#La funcion inicio da la bienvenida y te pide seleccionar el nivel, al finalizar regresa el nivel elegido\n",
    "def inicio ():\n",
    "    \n",
    "    print(\"Bienvenido Ironhack-ado \\n El juego consta de tres niveles Basico - Intermedio - Avanzado:\\n - Básico consta de palabras cortas y 6 intentos \\n - Intermedio consta de palabras largas y 6 intentos \\n - Avanzado consta de palabras largas y 4 intentos\")\n",
    "    nivel= normalize(input(\"Escoge tu nivel: \"))\n",
    "                     \n",
    "    while nivel not in [\"basico\", \"intermedio\", \"avanzado\"]:\n",
    "        nivel=normalize(input(\"Nivel invalido por favor escoge tu nivel: \"))\n",
    "    \n",
    "    return nivel #Regresa"
   ]
  },
  {
   "cell_type": "code",
   "execution_count": 16,
   "metadata": {},
   "outputs": [],
   "source": [
    "def categoria ():\n",
    "    \n",
    "    cat=normalize(input(\"Elige una categoria entre animales,paises o peliculas de disney: \"))\n",
    "    \n",
    "    while cat not in [\"animales\",\"paises\",\"peliculas de disney\"]:        \n",
    "        cat=normalize(input(\"Categoria invalida escoge un entre animales, paises o peliculas de disney \"))\n",
    "\n",
    "    return cat"
   ]
  },
  {
   "cell_type": "code",
   "execution_count": 17,
   "metadata": {},
   "outputs": [],
   "source": [
    "def lista (nivel,cat):\n",
    "    \n",
    "    if cat==\"animales\":\n",
    "        palabra=choice(lista_animales)\n",
    "        \n",
    "    elif cat==\"paises\":\n",
    "        palabra=choice(lista_paises)\n",
    "        \n",
    "    elif cat==\"peliculas de disney\":\n",
    "        palabra=choice(lista_disney)\n",
    "        \n",
    "    return palabra      "
   ]
  },
  {
   "cell_type": "code",
   "execution_count": 18,
   "metadata": {},
   "outputs": [],
   "source": [
    "def palabra_nivel(nivel,palabra,cat):\n",
    "    \n",
    "    if nivel=='basico':        \n",
    "        while len(palabra)  >= 7:\n",
    "            palabra=lista(nivel,cat)\n",
    "            \n",
    "    else:\n",
    "        while len(palabra)  < 7:\n",
    "            palabra=lista(nivel,cat) \n",
    "            \n",
    "    return (palabra)"
   ]
  },
  {
   "cell_type": "code",
   "execution_count": 19,
   "metadata": {},
   "outputs": [],
   "source": [
    "def error_drawing(num,nivel):\n",
    "    if nivel == 'avanzado':\n",
    "        plt.imshow(mpimg.imread(str(num)+'.a.jpg'))\n",
    "        plt.axis('off')\n",
    "    else:\n",
    "        plt.imshow(mpimg.imread(str(num)+'.jpg'))\n",
    "        plt.axis('off')\n",
    "    return(plt.show())"
   ]
  },
  {
   "cell_type": "code",
   "execution_count": 20,
   "metadata": {},
   "outputs": [],
   "source": [
    "def game_play(word,nivel):\n",
    "    score=0\n",
    "    used=[]\n",
    "    error_drawing(str(score),nivel)\n",
    "    \n",
    "    display=['_' if letra != ' ' else '   ' for letra in word]\n",
    "    print(' '.join(display))\n",
    "    \n",
    "    if nivel == 'avanzado':\n",
    "        dificultad=4\n",
    "    else:\n",
    "        dificultad=6\n",
    "    \n",
    "    while (score < dificultad) and ('_' in display):\n",
    "        if len(used) > 0:\n",
    "            print('Has usado estas letras:\\n')\n",
    "            print(used)\n",
    "        x=normalize(input('Dame una letra'))\n",
    "        while x in used:\n",
    "                    x=normalize(input('Ya usaste esa letra elige otra letra'))\n",
    "        used.append(x)\n",
    "        if x in word:\n",
    "            for i, letra in enumerate(word):\n",
    "                if x == letra:\n",
    "                    clear_output(wait=True)\n",
    "                    display[i]=x\n",
    "                    error_drawing((score),nivel)        \n",
    "        elif x not in word:\n",
    "            clear_output(wait=True)\n",
    "            score+=1        \n",
    "            error_drawing(str(score),nivel)\n",
    "        print(' '.join(display))\n",
    "    \n",
    "    if score == dificultad:\n",
    "        clear_output(wait=True)\n",
    "        error_drawing(str(score),nivel)\n",
    "        print('La palabra correcta era '+word)\n",
    "        print('Perdiste')\n",
    "    \n",
    "    elif '_' not in display:\n",
    "        clear_output(wait=True)\n",
    "        error_drawing(str(score),nivel)\n",
    "        print('La palabra correcta es \"'+''.join(display)+'\"')\n",
    "        print ('Ganaste!!')"
   ]
  },
  {
   "cell_type": "code",
   "execution_count": 21,
   "metadata": {},
   "outputs": [],
   "source": [
    "def flow():\n",
    "    nivel=inicio()\n",
    "    cat=categoria()\n",
    "    palabra=lista(nivel,cat)\n",
    "    palabra=palabra_nivel(nivel,palabra,cat)\n",
    "    game_play(palabra,nivel)"
   ]
  },
  {
   "cell_type": "code",
   "execution_count": 22,
   "metadata": {},
   "outputs": [],
   "source": [
    "def juego():\n",
    "    jugar='si'\n",
    "    while jugar == 'si':\n",
    "        flow()\n",
    "        jugar=normalize(input('Quieres volver a jugar? si/no'))\n",
    "        clear_output(wait=True)\n",
    "    print(\"Esperamos verte pronto\")\n",
    "    plt.imshow(mpimg.imread('bye.jpg'))    \n",
    "    plt.axis('off')"
   ]
  },
  {
   "cell_type": "code",
   "execution_count": 24,
   "metadata": {},
   "outputs": [
    {
     "name": "stdout",
     "output_type": "stream",
     "text": [
      "Esperamos verte pronto\n"
     ]
    },
    {
     "data": {
      "image/png": "[encoded data removed]",
      "text/plain": [
       "<Figure size 432x288 with 1 Axes>"
      ]
     },
     "metadata": {
      "needs_background": "light"
     },
     "output_type": "display_data"
    }
   ],
   "source": [
    "juego()"
   ]
  }
 ],
 "metadata": {
  "kernelspec": {
   "display_name": "Python 3",
   "language": "python",
   "name": "python3"
  },
  "language_info": {
   "codemirror_mode": {
    "name": "ipython",
    "version": 3
   },
   "file_extension": ".py",
   "mimetype": "text/x-python",
   "name": "python",
   "nbconvert_exporter": "python",
   "pygments_lexer": "ipython3",
   "version": "3.8.3"
  }
 },
 "nbformat": 4,
 "nbformat_minor": 4
}
