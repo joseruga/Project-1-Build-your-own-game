{
 "cells": [
  {
   "cell_type": "code",
   "execution_count": 55,
   "metadata": {},
   "outputs": [],
   "source": [
    "from random import choice\n",
    "\n",
    "\n",
    "def Inicio ():\n",
    "    print(\"Bienvenido Ironhack-ado \\n El juego consta de tres niveles Basico - Intermedio - Avanzado:\\n - Básico consta de palabras cortas y 6 intentos \\n - Intermedio consta de palabras largas y 6 intentos \\n - Avanzado consta de palabras largas y 4 intentos\")\n",
    "    nivel= input(\"Escoge tu nivel: \").lower()\n",
    "    while nivel not in [\"basico\", \"intermedio\", \"avanzado\"]:\n",
    "        nivel=input(\"Nivel invalido escoge un entre basico, intermedio o avanzado:\").lower()\n",
    "    return nivel\n"
   ]
  },
  {
   "cell_type": "code",
   "execution_count": 56,
   "metadata": {},
   "outputs": [
    {
     "name": "stdout",
     "output_type": "stream",
     "text": [
      "Bienvenido Ironhack-ado \n",
      " El juego consta de tres niveles Basico - Intermedio - Avanzado:\n",
      " - Básico consta de palabras cortas y 6 intentos \n",
      " - Intermedio consta de palabras largas y 6 intentos \n",
      " - Avanzado consta de palabras largas y 4 intentos\n",
      "Escoge tu nivel: \n",
      "Nivel invalido escoge un entre basico, intermedio o avanzado:basico\n"
     ]
    }
   ],
   "source": [
    "nivel=Inicio()"
   ]
  },
  {
   "cell_type": "code",
   "execution_count": 57,
   "metadata": {},
   "outputs": [],
   "source": [
    "def categoria ():\n",
    "    cat=input(\"Elige una categoria entre animales,paises o peliculas de disney:\").lower()\n",
    "    while cat not in [\"animales\",\"paises\",\"peliculas de disney\"]:\n",
    "        cat=input(\"Categoria invalida escoge un entre animales, paises o peliculas de disney\").lower()\n",
    "    return cat"
   ]
  },
  {
   "cell_type": "code",
   "execution_count": 58,
   "metadata": {},
   "outputs": [
    {
     "name": "stdout",
     "output_type": "stream",
     "text": [
      "Elige una categoria entre animales,paises o peliculas de disney:animales\n"
     ]
    }
   ],
   "source": [
    "cat=categoria()"
   ]
  },
  {
   "cell_type": "code",
   "execution_count": 62,
   "metadata": {},
   "outputs": [],
   "source": [
    "lista_animales=['oso','perro','gato','caballo','hipopotamo']\n",
    "lista_paises=['mexico','japon','rusia','españa','afganistan']\n",
    "lista_disney=['mulan','buscando a Nemo']"
   ]
  },
  {
   "cell_type": "code",
   "execution_count": 68,
   "metadata": {},
   "outputs": [],
   "source": [
    "def lista (nivel,cat):\n",
    "    if cat==\"animales\":\n",
    "        palabra=choice(lista_animales)\n",
    "    elif cat==\"paises\":\n",
    "        palabra=choice(lista_paises)\n",
    "    elif cat==\"peliculas de disney\":\n",
    "        palabra=choice(lista_disney)\n",
    "    if nivel==\"basico\"and len(palabra)      \n",
    "    return palabra      "
   ]
  },
  {
   "cell_type": "code",
   "execution_count": 72,
   "metadata": {},
   "outputs": [
    {
     "data": {
      "text/plain": [
       "'mulan'"
      ]
     },
     "execution_count": 72,
     "metadata": {},
     "output_type": "execute_result"
    }
   ],
   "source": [
    "lista(\"x\",\"peliculas de disney\")"
   ]
  },
  {
   "cell_type": "code",
   "execution_count": null,
   "metadata": {},
   "outputs": [],
   "source": []
  },
  {
   "cell_type": "code",
   "execution_count": null,
   "metadata": {},
   "outputs": [],
   "source": []
  },
  {
   "cell_type": "code",
   "execution_count": null,
   "metadata": {},
   "outputs": [],
   "source": []
  },
  {
   "cell_type": "code",
   "execution_count": null,
   "metadata": {},
   "outputs": [],
   "source": []
  },
  {
   "cell_type": "code",
   "execution_count": null,
   "metadata": {},
   "outputs": [],
   "source": []
  },
  {
   "cell_type": "code",
   "execution_count": null,
   "metadata": {},
   "outputs": [],
   "source": []
  }
 ],
 "metadata": {
  "kernelspec": {
   "display_name": "Python 3",
   "language": "python",
   "name": "python3"
  },
  "language_info": {
   "codemirror_mode": {
    "name": "ipython",
    "version": 3
   },
   "file_extension": ".py",
   "mimetype": "text/x-python",
   "name": "python",
   "nbconvert_exporter": "python",
   "pygments_lexer": "ipython3",
   "version": "3.8.3"
  }
 },
 "nbformat": 4,
 "nbformat_minor": 4
}
